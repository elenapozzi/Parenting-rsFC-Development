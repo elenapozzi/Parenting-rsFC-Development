{
 "cells": [
  {
   "cell_type": "code",
   "execution_count": null,
   "id": "655ec3fa-4d7b-4ae4-86d3-d63db91e8cec",
   "metadata": {},
   "outputs": [],
   "source": [
    "#import required packages\n",
    "\n",
    "import numpy as np\n",
    "import os\n",
    "from nilearn.connectome import ConnectivityMeasure\n",
    "from nilearn.input_data import NiftiLabelsMasker\n",
    "from nilearn import plotting\n",
    "\n",
    "#load atlas and labels\n",
    "\n",
    "maps = '/data/netapp01/work/elena/fc_analysis_combined/ROIs/Schaefer100_FreeSurfer_dseg_tpl-MNIPediatricAsym_cohort-4_114ROIs.nii.gz'\n",
    "\n",
    "#define subjects\n",
    "\n",
    "subjs = [i for i in os.listdir('/data/netapp01/work/elena/fc_analysis_combined/iCATS_fmriprep_v2020/wave1/fmriprep/') \n",
    "         if i.startswith('sub-') \n",
    "         if not i.endswith('.html')]\n",
    "\n",
    "#apply a mask to extract timeseries - i.e., ROIs in the atlas\n",
    "#note that Lables is for deterministic parcellation (non overlapping volumes)\n",
    "\n",
    "masker = NiftiLabelsMasker(labels_img=maps, #region definitions\n",
    "                           standardize=True, #signal is zscored\n",
    "                           memory='nilearn_cache', \n",
    "                           verbose=2, \n",
    "                           memory_level=1, \n",
    "                           high_pass=0.01,\n",
    "                           t_r=2.4) \n",
    "\n",
    "#define preprocessed image\n",
    "#go from nifti files to the signal time series and add confounders\n",
    "\n",
    "subjects_time_series = []\n",
    "\n",
    "for subj in subjs:\n",
    "   \n",
    "    time_series = masker.fit_transform('/data/netapp01/work/elena/fc_analysis_combined/iCATS_fmriprep_v2020/wave1/fmriprep/' + subj + '/func/' +  subj + '_task-rest_space-MNIPediatricAsym_cohort-4_res-2_desc-preproc_bold.nii.gz', \n",
    "                                       confounds='/data/netapp01/work/elena/fc_analysis_combined/iCATS_fmriprep_v2020/wave1/fmriprep/' + subj + '/func/' +  subj + '_task-rest_desc-confounds_timeseries_selected.txt') \n",
    "    subjects_time_series.append(time_series)\n",
    "\n",
    "#calculate correlation matrix\n",
    "\n",
    "correlation_measure = ConnectivityMeasure(kind='correlation')\n",
    "correlation_matrices = correlation_measure.fit_transform(subjects_time_series)\n",
    "\n",
    "#save the correlation matrices - one per subject\n",
    "\n",
    "for conmat, subj in zip(correlation_matrices, subjs):        \n",
    "        np.savetxt('/data/netapp01/work/elena/fc_analysis_combined/connmatr/iCATS_Schaefer/wave1/' + subj + '_wave1.csv',   conmat,\n",
    "                    delimiter=' ', fmt='%.5f', comments='')"
   ]
  }
 ],
 "metadata": {
  "kernelspec": {
   "display_name": "Python 3 (ipykernel)",
   "language": "python",
   "name": "python3"
  },
  "language_info": {
   "codemirror_mode": {
    "name": "ipython",
    "version": 3
   },
   "file_extension": ".py",
   "mimetype": "text/x-python",
   "name": "python",
   "nbconvert_exporter": "python",
   "pygments_lexer": "ipython3",
   "version": "3.9.12"
  }
 },
 "nbformat": 4,
 "nbformat_minor": 5
}
